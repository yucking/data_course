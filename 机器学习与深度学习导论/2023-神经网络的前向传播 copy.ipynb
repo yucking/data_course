{
 "cells": [
  {
   "cell_type": "markdown",
   "metadata": {},
   "source": [
    "## 线性回归到神经网络\n",
    "\n",
    "* 线性回归是最简单的神经网络形式。可以把神经网络看成是线性回归的一种扩展。"
   ]
  },
  {
   "cell_type": "markdown",
   "metadata": {},
   "source": []
  },
  {
   "cell_type": "code",
   "execution_count": 1,
   "metadata": {},
   "outputs": [
    {
     "data": {
      "text/html": [
       "<img src=\"14.png\"/>"
      ],
      "text/plain": [
       "<IPython.core.display.Image object>"
      ]
     },
     "execution_count": 1,
     "metadata": {},
     "output_type": "execute_result"
    }
   ],
   "source": [
    "from IPython.display import Image\n",
    "Image(url= \"14.png\")"
   ]
  },
  {
   "cell_type": "markdown",
   "metadata": {},
   "source": [
    "## 线性回归的三种表现形式:方程，矩阵，神经网络图\n",
    "\n",
    "$$z = b + \\omega_1 x_1 + \\omega_2 x_2 + ... + \\omega_p x_p + \\epsilon$$\n",
    "\n",
    "其中:\n",
    "\n",
    "$z$ 是因变量,需要预测的目标\n",
    "$x_1, x_2, ..., x_p$ 是自变量,输入特征\n",
    "$b$ 是截距项\n",
    "$\\omega_1, \\omega_2, ..., \\omega_p$ 是回归系数\n",
    "$\\epsilon$ 是误差项\n",
    "\n",
    "模型的目标是找到一组参数,使得预测$\\hat{z}$尽可能接近真实观测值z。\n",
    "常见的训练方法是最小二乘法,通过最小化所有样本的平方误差来求解最优参数。\n",
    "\n",
    "多元线性回归广泛用于数值预测任务,可以看作是最简单的机器学习模型之一。但表达能力有限,只能表示线性关系。\n",
    "\n",
    "\n",
    "* 图解表达的好处\n",
    "\n",
    "* 线性回归本质上就是一个单层神经网络。"
   ]
  },
  {
   "cell_type": "code",
   "execution_count": 7,
   "metadata": {},
   "outputs": [
    {
     "data": {
      "text/html": [
       "<img src=\"output1.jpg\"/>"
      ],
      "text/plain": [
       "<IPython.core.display.Image object>"
      ]
     },
     "execution_count": 7,
     "metadata": {},
     "output_type": "execute_result"
    }
   ],
   "source": [
    "Image(url= \"output1.jpg\")"
   ]
  },
  {
   "cell_type": "code",
   "execution_count": 8,
   "metadata": {},
   "outputs": [
    {
     "data": {
      "text/html": [
       "<img src=\"191.jpg\"/>"
      ],
      "text/plain": [
       "<IPython.core.display.Image object>"
      ]
     },
     "execution_count": 8,
     "metadata": {},
     "output_type": "execute_result"
    }
   ],
   "source": [
    "Image(url= \"191.jpg\")\n",
    "# 单样本例"
   ]
  },
  {
   "cell_type": "markdown",
   "metadata": {},
   "source": [
    "### 单层神经网络前向传播的代码实现\n",
    "\n",
    "* 简单代码实现\n",
    "\n",
    "torch.tensor\n",
    "torch.mv\n"
   ]
  },
  {
   "cell_type": "code",
   "execution_count": 2,
   "metadata": {},
   "outputs": [],
   "source": [
    "import torch\n",
    "import numpy as np"
   ]
  },
  {
   "cell_type": "code",
   "execution_count": 4,
   "metadata": {},
   "outputs": [],
   "source": [
    "# 通过torch.tensor()构建输入特征\n",
    "# tensor(,dtype=torch.float32)\n",
    "x=torch.tensor([[1.0,2.0,0.1],[3.0,4.0,0.2],[5.0,6.0,0.3]])\n",
    "z=torch.tensor([2.0,3.0,5.0])\n",
    "w=torch.tensor([1.0, 0.5, -0.5])"
   ]
  },
  {
   "cell_type": "code",
   "execution_count": 11,
   "metadata": {},
   "outputs": [
    {
     "data": {
      "text/plain": [
       "array([1.95, 4.9 , 7.85], dtype=float32)"
      ]
     },
     "execution_count": 11,
     "metadata": {},
     "output_type": "execute_result"
    }
   ],
   "source": [
    "results=np.dot(x,w)\n",
    "results"
   ]
  },
  {
   "cell_type": "code",
   "execution_count": 12,
   "metadata": {},
   "outputs": [],
   "source": [
    "def line0(x,w):\n",
    "    return torch.mv(x,w)    # 也可以直接使用torch.mv(x,w)"
   ]
  },
  {
   "cell_type": "code",
   "execution_count": 13,
   "metadata": {},
   "outputs": [
    {
     "data": {
      "text/plain": [
       "tensor([1.9500, 4.9000, 7.8500])"
      ]
     },
     "execution_count": 13,
     "metadata": {},
     "output_type": "execute_result"
    }
   ],
   "source": [
    "line0(x,w)"
   ]
  },
  {
   "cell_type": "markdown",
   "metadata": {},
   "source": [
    "* 通过torch.nn.Linear()函数构建隐藏层\n",
    "\n",
    "torch.nn.Linear\n",
    "output.weight"
   ]
  },
  {
   "cell_type": "code",
   "execution_count": 37,
   "metadata": {},
   "outputs": [
    {
     "data": {
      "text/plain": [
       "tensor([[-0.9306, -0.1752],\n",
       "        [-1.5866, -0.9083],\n",
       "        [-2.2425, -1.6414]], grad_fn=<AddmmBackward0>)"
      ]
     },
     "execution_count": 37,
     "metadata": {},
     "output_type": "execute_result"
    }
   ],
   "source": [
    "x=torch.tensor([[1.0,2,0.1],[3.0,4,0.2],[5,6,0.3]],dtype = torch.float32)\n",
    "output=torch.nn.Linear(3,2) # （特征维度，层数），随机分配w\n",
    "output(x)"
   ]
  },
  {
   "cell_type": "code",
   "execution_count": 29,
   "metadata": {},
   "outputs": [
    {
     "data": {
      "text/plain": [
       "Parameter containing:\n",
       "tensor([[0.2709, 0.4980, 0.0529]], requires_grad=True)"
      ]
     },
     "execution_count": 29,
     "metadata": {},
     "output_type": "execute_result"
    }
   ],
   "source": [
    "output.weight# 权重矩阵，包含了隐藏层和输出层的权重"
   ]
  },
  {
   "cell_type": "markdown",
   "metadata": {},
   "source": []
  },
  {
   "cell_type": "markdown",
   "metadata": {},
   "source": [
    "## 激活函数（从线性回归到神经网络的第一个扩展）\n",
    "\n",
    "线性回归:\n",
    "\n",
    "$$ y = \\beta X + b $$\n",
    "\n",
    "其中,$X$是输入特征,$y$是输出,$b$是偏置项,$\\beta$是线性回归的参数。线性回归假设输入和输出之间是线性关系。\n",
    "\n",
    "单层神经网络:\n",
    "\n",
    "$$ y = f(X\\beta + b) $$\n",
    "\n",
    "其中$f$是一个非线性激活函数,如sigmoid。单层网络在线性回归基础上加了非线性变换。\n",
    "\n",
    "多层神经网络:\n",
    "\n",
    "$$ y = f_n(W_n...f_2(W_2f_1(W_1X+b_1)...)+b_n) $$\n",
    "\n",
    "其中$W_i, b_i$表示每一层的权重和偏置,$f_i$表示激活函数。多层网络堆叠线性变换和非线性变换,能够拟合更复杂的函数。\n",
    "\n",
    "从上式可以看出,线性回归是最简单的单层神经网络。随着层数的增加和非线性的引入,神经网络可以表示更加复杂的函数,拟合能力也越强。两者之间是渐进的关系。"
   ]
  },
  {
   "cell_type": "code",
   "execution_count": 14,
   "metadata": {},
   "outputs": [
    {
     "data": {
      "text/html": [
       "<img src=\"17.jpg\"/>"
      ],
      "text/plain": [
       "<IPython.core.display.Image object>"
      ]
     },
     "execution_count": 14,
     "metadata": {},
     "output_type": "execute_result"
    }
   ],
   "source": [
    "Image(url= \"17.jpg\")"
   ]
  },
  {
   "cell_type": "markdown",
   "metadata": {},
   "source": [
    "### 输出层的激活函数sigmoid——从回归到二分类\n",
    "\n",
    "\n",
    "\n",
    "Sigmoid函数将实数映射到(0,1)区间,是一个S型的曲线。它的定义形式为:\n",
    "\n",
    "$\\sigma(x) = \\frac{1}{1+e^{-x}}=\\frac{e^x}{e^x+1}$\n",
    "\n",
    "x为输入,$\\sigma(x)$为Sigmoid激活函数的值。\n",
    "\n",
    "Sigmoid函数的主要特点是:\n",
    "\n",
    "取值范围在(0,1)之间\n",
    "单调递增\n",
    "曲线S形,与x轴相交于(0,0.5)\n",
    "导数求解简单\n",
    "存在梯度消失问题\n",
    "Sigmoid函数广泛用于二分类神经网络中,将任意实数映射为0-1之间的概率。但目前由于梯度消失问题,在深层网络中已较少使用。\n",
    "\n",
    "\n",
    "* 在神经网络的输出层加入Sigmoid激活函数,主要有以下目的:\n",
    "\n",
    "1.将网络输出转换为概率\n",
    ":__Sigmoid函数将实数映射到(0,1)区间,可将网络输出转换为概率值,表示预测的置信度。__ 这对于进行预测很有用。\n",
    "\n",
    "2.实现二分类输出\n",
    ":Sigmoid的输出区间为(0,1),可以直接用来表示二分类任务中的概率P(y=1|x)。值接近0表示预测第一类,接近1表示预测第二类。\n",
    "\n",
    "3.定义binary cross entropy loss\n",
    ":__Sigmoid可与binary cross entropy loss配合使用,构建二分类任务的loss函数,用于训练网络模型。__\n",
    "\n",
    "4.提供可微分性\n",
    ":Sigmoid函数可导,使得输出层也可导,便于使用梯度下降进行网络参数优化。\n",
    "\n",
    "5.减少梯度消失\n",
    ":相比tanh等激活函数,Sigmoid在正负饱和区的梯度更大,一定程度上减轻了梯度消失问题。\n",
    "\n",
    "6.提升收敛性\n",
    ":Sigmoid可强制网络输出在一个数值范围内,增强网络的收敛性。\n",
    "\n",
    "总之,Sigmoid适合作为输出层激活函数,将网络输出转换为概率,定义loss函数,实现二分类,并一定程度上提升优化性能。但其梯度消失问题仍限制了网络层数的增长。\n",
    "\n",
    "torch.sigmoid\n"
   ]
  },
  {
   "cell_type": "code",
   "execution_count": 2,
   "metadata": {},
   "outputs": [],
   "source": [
    "import matplotlib.pyplot as plt"
   ]
  },
  {
   "cell_type": "code",
   "execution_count": 15,
   "metadata": {},
   "outputs": [],
   "source": [
    "x=torch.tensor(range(-10,10),dtype = torch.float32)\n",
    "y=torch.sigmoid(x)"
   ]
  },
  {
   "cell_type": "code",
   "execution_count": 16,
   "metadata": {},
   "outputs": [
    {
     "data": {
      "text/plain": [
       "[<matplotlib.lines.Line2D at 0x22d48d85670>]"
      ]
     },
     "execution_count": 16,
     "metadata": {},
     "output_type": "execute_result"
    },
    {
     "data": {
      "image/png": "[encoded data removed]",
      "text/plain": [
       "<Figure size 800x320 with 1 Axes>"
      ]
     },
     "metadata": {},
     "output_type": "display_data"
    }
   ],
   "source": [
    "plt.figure(figsize = (10,4),dpi = 80)\n",
    "plt.plot(x,y,\"o-\")"
   ]
  },
  {
   "cell_type": "markdown",
   "metadata": {},
   "source": [
    "以Y轴0.5处划分上下两部分进行分类"
   ]
  },
  {
   "cell_type": "markdown",
   "metadata": {},
   "source": [
    "* 单层二分类神经网络的前向过程的代码实现"
   ]
  },
  {
   "cell_type": "code",
   "execution_count": 35,
   "metadata": {},
   "outputs": [
    {
     "data": {
      "text/plain": [
       "(tensor([1., 1., 1.]), tensor([0.7750, 0.9381, 0.9852]))"
      ]
     },
     "execution_count": 35,
     "metadata": {},
     "output_type": "execute_result"
    }
   ],
   "source": [
    "x=torch.tensor([[1.0,2.0,0.1],[3.0,4.0,0.2],[5.0,6.0,0.3]],dtype=torch.float32)\n",
    "z=torch.tensor([0,0,1],dtype=torch.float32)\n",
    "w=torch.tensor([0.2451, 0.562, -1.3242],dtype=torch.float32)\n",
    "\n",
    "def line1(x,w):\n",
    "    h1=torch.mv(x,w)\n",
    "    h1=torch.sigmoid(h1)\n",
    "    output=torch.tensor([int(x) for x in h1 >=0.5],dtype=torch.float32)\n",
    "    return output,h1\n",
    "\n",
    "line1(x,w)\n"
   ]
  },
  {
   "cell_type": "code",
   "execution_count": 69,
   "metadata": {},
   "outputs": [
    {
     "data": {
      "text/plain": [
       "tensor([0., 0., 1.])"
      ]
     },
     "execution_count": 69,
     "metadata": {},
     "output_type": "execute_result"
    }
   ],
   "source": [
    "x=torch.tensor([[1.0,2.0],[3.0,4.0],[5.0,6.0]])\n",
    "z=torch.tensor([0,0,1])\n",
    "\n",
    "h1=torch.nn.Linear(2,1)\n",
    "h1_out=h1(x)\n",
    "h1_s_out=torch.sigmoid(h1_out)\n",
    "h1_s_c_out=torch.tensor([int(x) for x in h1_s_out >=0.5],dtype=torch.float32)\n",
    "h1_s_c_out"
   ]
  },
  {
   "cell_type": "markdown",
   "metadata": {},
   "source": []
  },
  {
   "cell_type": "code",
   "execution_count": 70,
   "metadata": {},
   "outputs": [
    {
     "data": {
      "text/html": [
       "<img src=\"17.png\"/>"
      ],
      "text/plain": [
       "<IPython.core.display.Image object>"
      ]
     },
     "execution_count": 70,
     "metadata": {},
     "output_type": "execute_result"
    }
   ],
   "source": [
    "Image(url= \"17.png\")"
   ]
  },
  {
   "cell_type": "code",
   "execution_count": 108,
   "metadata": {},
   "outputs": [
    {
     "data": {
      "text/plain": [
       "tensor([0., 0., 1.])"
      ]
     },
     "execution_count": 108,
     "metadata": {},
     "output_type": "execute_result"
    }
   ],
   "source": [
    "x=torch.tensor([[1.0,2.0,0.1],[3.0,4.0,0.2],[5.0,6.0,0.3]])\n",
    "z=torch.tensor([0,0,1],dtype=torch.float32)\n",
    "\n",
    "h1=torch.nn.Linear(3,3)\n",
    "h2=torch.nn.Linear(3,2)\n",
    "h3=torch.nn.Linear(2,1)\n",
    "\n",
    "h1_out=h1(x)\n",
    "h2_out=h2(h1_out)\n",
    "h3_out=h3(h2_out)\n",
    "\n",
    "h3_s_out=torch.sigmoid(h3_out)\n",
    "h3_s_c_out=torch.tensor([int(x) for x in h3_s_out >=0.5],dtype=torch.float32)\n",
    "h3_s_c_out"
   ]
  },
  {
   "cell_type": "code",
   "execution_count": null,
   "metadata": {},
   "outputs": [],
   "source": [
    "\n",
    "Image(url= \"18.png\")"
   ]
  },
  {
   "cell_type": "markdown",
   "metadata": {},
   "source": [
    "## 神经元与隐藏层的增减（从线性回归到神经网络的第二个扩展）\n",
    "\n",
    "* 神经元与隐藏层的增减的效果（chatgpt的回答）\n",
    "\n",
    "在构建深度学习模型时,增加单层神经元数量和增加隐藏层数量这两种方法都可以增强网络的表达能力,但带来的效果有些差异:\n",
    "\n",
    "1. 增加单层神经元数量,主要作用是提升该层对更多特征的学习表达能力。适合当前层特征不够情况。\n",
    "\n",
    "2. 增加隐藏层数量,主要作用是堆叠更多的非线性变换,提升全网络的层次化特征学习能力。适合功能表达不足情况。\n",
    "\n",
    "3. 增加单层神经元数量对网络宽度产生影响,而增加隐藏层对网络深度产生影响。\n",
    "\n",
    "4. 单层神经元增多容易导致过拟合;而层数增多可以通过有效的预训练及正则化方法减轻过拟合。\n",
    "\n",
    "5. 层数增多会使得训练时间加长,而单层神经元增加影响较小。\n",
    "\n",
    "综上,增多神经元数量的效果局限在单层,而增加层数影响全网;当特征表示力不足时,可以适当加大单层宽度;当层次表示不够时,可以适当加深网络。需要根据具体情况选择最优的网络结构。\n",
    "\n",
    "* 各层之间的衔接以及输出层\n"
   ]
  },
  {
   "cell_type": "code",
   "execution_count": null,
   "metadata": {},
   "outputs": [],
   "source": [
    "Image(url= \"19.png\")"
   ]
  },
  {
   "cell_type": "markdown",
   "metadata": {},
   "source": [
    "### 输出层的softmax函数-从回归到多分类\n",
    "\n",
    "对于一个向量x = [x1, x2, ..., xn],其softmax函数定义为:\n",
    "\n",
    "$$ softmax(x_i) = \\frac{e^{x_i}}{\\sum_{j=n} e^{x_j}} $$\n",
    "\n",
    "即对每个元素xi:\n",
    "\n",
    "$$ softmax(x_i) = \\frac{e^{x_i}}{e^{x_1} + e^{x_2} + ... + e^{x_n}}$$\n",
    "\n",
    "softmax函数的主要性质是:\n",
    "\n",
    "将任意实数向量归一化为概率分布,范围在[0, 1]\n",
    "概率和为1,即$\\sum_{i=1}^n softmax(x_i) = 1$\n",
    "保留了输入元素相对大小的关系\n",
    "\n",
    "softmax函数通常被用在神经网络的输出层,具有以下目的和意义:\n",
    "\n",
    "    1.将网络输出转换为概率分布,表示对各类别的预测概率。\n",
    "\n",
    "    2.实现多分类任务,将类别预测问题建模为概率估计问题。\n",
    "\n",
    "    3.定义多分类交叉熵损失函数,用于模型训练。\n",
    "\n",
    "    4.提供预测结果,选择概率最大的类别作为预测输出。\n",
    "\n",
    "    5.增加模型确定性,生成值域范围固定的概率输出。\n",
    "\n",
    "    6.提供类别之间可比性,概率表示预测的置信度。\n",
    "\n",
    "综上,softmax可将网络输出转换为概率,实现多分类,定义损失函数,最终用于类别预测,这是它被广泛应用于神经网络输出层的主要原因。\n",
    "\n"
   ]
  },
  {
   "cell_type": "code",
   "execution_count": 3,
   "metadata": {},
   "outputs": [
    {
     "data": {
      "text/plain": [
       "tensor([9.9995e-01, 4.5398e-05, 2.0611e-09])"
      ]
     },
     "execution_count": 3,
     "metadata": {},
     "output_type": "execute_result"
    }
   ],
   "source": [
    "z=torch.tensor([1010,1000,990],dtype=torch.float32)# 注意，在pytorch中计算softmax的时候，张量必须为小数，不能为int类型.需要提前转化好\n",
    "torch.softmax(z,dim=0)"
   ]
  },
  {
   "cell_type": "markdown",
   "metadata": {},
   "source": [
    "dim的作用：\n",
    "dim=1: Softmax 运算在每一行上，结果是每一行的元素之和为 1。\n",
    "dim=0: Softmax 运算在每一列上，结果是每一列的元素之和为 1"
   ]
  },
  {
   "cell_type": "code",
   "execution_count": 7,
   "metadata": {},
   "outputs": [
    {
     "data": {
      "text/plain": [
       "tensor([1010., 1000.,  990.])"
      ]
     },
     "execution_count": 7,
     "metadata": {},
     "output_type": "execute_result"
    }
   ],
   "source": [
    "z"
   ]
  },
  {
   "cell_type": "code",
   "execution_count": 5,
   "metadata": {},
   "outputs": [
    {
     "data": {
      "text/plain": [
       "tensor([[0.0900, 0.2447, 0.6652],\n",
       "        [0.9362, 0.0171, 0.0466]])"
      ]
     },
     "execution_count": 5,
     "metadata": {},
     "output_type": "execute_result"
    }
   ],
   "source": [
    "x = torch.tensor([[1, 2, 3], [9, 5, 6]], dtype=torch.float32)\n",
    "torch.softmax(x, dim=1) "
   ]
  },
  {
   "cell_type": "code",
   "execution_count": 6,
   "metadata": {},
   "outputs": [
    {
     "data": {
      "text/plain": [
       "tensor([[1., 2., 3.],\n",
       "        [9., 5., 6.]])"
      ]
     },
     "execution_count": 6,
     "metadata": {},
     "output_type": "execute_result"
    }
   ],
   "source": [
    "x"
   ]
  },
  {
   "cell_type": "code",
   "execution_count": null,
   "metadata": {},
   "outputs": [],
   "source": []
  },
  {
   "cell_type": "code",
   "execution_count": 3,
   "metadata": {},
   "outputs": [
    {
     "data": {
      "text/html": [
       "<img src=\"16.png\"/>"
      ],
      "text/plain": [
       "<IPython.core.display.Image object>"
      ]
     },
     "execution_count": 3,
     "metadata": {},
     "output_type": "execute_result"
    }
   ],
   "source": [
    "Image(url= \"16.png\")"
   ]
  },
  {
   "cell_type": "markdown",
   "metadata": {},
   "source": [
    "## 激活函数（隐藏层）\n",
    "\n",
    "* 隐藏层的激活函数主要有以下几个作用（chatgpt）:\n",
    "\n",
    "1. 引入非线性:\n",
    "激活函数的引入让网络可以拟合复杂的非线性函数,而不仅是简单的线性映射,这大大提高了模型的表达能力。\n",
    "\n",
    "2. 定义输出范围:\n",
    "不同的激活函数将输出值映射到不同的范围,如Sigmoid将实数映射到[0,1],tanh映射到[-1,1]。这为后续层提供合适数值范围的输入。\n",
    "\n",
    "3. 实现层间转换:\n",
    "激活函数实现了层与层之间的转换,一个层的输出通过激活函数成为下层的输入,完成信息的传递和转换。\n",
    "\n",
    "4. 提供可训练参数:\n",
    "激活函数的参数也可以加入训练,如批归一化层中的可学习参数,提高模型的表达能力。\n",
    "\n",
    "5. 提高泛化能力:\n",
    "激活函数增强了模型对未见样本的泛化能力,如ReLU具有稀疏化作用,减少了过拟合风险。\n",
    "\n",
    "6. 提供梯度:\n",
    "激活函数可导,为网络的反向传播提供了梯度,使网络可以通过梯度下降进行训练。\n",
    "\n",
    "7. 提供正则化:\n",
    "某些激活函数如ReLU也具有一定的正则化作用。\n",
    "\n",
    "所以隐藏层的激活函数对网络性能有重要影响,它实现了层与层之间的非线性变换,是网络可以拟合复杂函数的关键。\n",
    "\n",
    "* 机器学习中常用的激活函数\n",
    "\n",
    "机器学习中常用的激活函数只有恒等函数（identity function），阶跃函数（sign），sigmoid\n",
    "函数，ReLU，tanh，softmax这六种，其中Softmax与恒等函数几乎不会出现在隐藏层上，Sign、Tanh\n",
    "几乎不会出现在输出层上，ReLU与Sigmoid则是两种层都会出现，并且应用广泛。在这里，我们将总结性声明一下输出层的g(z)与隐藏层\n",
    "的h(z)之间的区别，以帮助大家获得更深的理解：\n",
    "\n",
    "1. 虽然都是激活函数，但隐藏层和输出层上的激活函数作用是完全不一样的。输出层的激活函数\n",
    "是为了让神经网络能够输出不同类型的标签而存在的。其中恒等函数用于回归，sigmoid函数用于\n",
    "二分类，softmax用于多分类。换句说， 仅仅与输出结果的表现形式有关，与神经网络的效果\n",
    "无关，也因此它可以使用线性的恒等函数。但隐藏层的激活函数就不同了，如我们之前尝试的\n",
    "XOR，隐藏层上的激活函数 的选择会影响神经网络的效果，而线性的 是会让神经网络的结\n",
    "构失效的。\n",
    "\n",
    "2. 在同一个神经网络中，输出层与隐藏层的激活函数可以是不同的，并且在大多数运行回归和多分类的神经网络时，他们也的确是不同的。每层上的 可以是不同的，但是同一层上的激活函数必须一致。\n",
    "\n",
    "* ReLU\n",
    "\n",
    "ReLU(Rectified Linear Unit)是深度学习中最常用的激活函数之一,它的定义是:\n",
    "\n",
    "$$ f(x) = \\max(0, x) $$\n",
    "\n",
    "即对输入x:\n",
    "\n",
    "如果x>0, 输出x\n",
    "\n",
    "如果x<=0, 输出0\n",
    "\n",
    "ReLU激活函数的主要特点包括:\n",
    "\n",
    "解决了梯度消失问题,因为其导数为1或0,不会产生梯度消失。\n",
    "计算简单,仅仅是一个阈值判定,计算速度快。\n",
    "在一定程度上引入了非线性,但保留了线性非饱和区。\n",
    "比Sigmoid和Tanh收敛速度更快,模型训练效率高。\n",
    "使模型更稀疏,有利于特征提取。\n",
    "但也存在死亡神经元(dead neuron)问题,即部分神经元可能永远不会活化。\n",
    "ReLU是目前最常用和最有效的激活函数之一。\n",
    "综上,ReLU激活函数通过解决梯度消失问题,提高了深度网络的训练效率,被广泛应用在深度神经网络中。但也有一些缺点需要注意。\n",
    "\n",
    "\n",
    "* 前向传播的标准实现形式"
   ]
  },
  {
   "cell_type": "code",
   "execution_count": 32,
   "metadata": {},
   "outputs": [],
   "source": [
    "x=torch.tensor(range(-10,10),dtype = torch.float32)\n",
    "y=torch.relu(x)"
   ]
  },
  {
   "cell_type": "code",
   "execution_count": 35,
   "metadata": {},
   "outputs": [
    {
     "data": {
      "text/plain": [
       "[<matplotlib.lines.Line2D at 0x1bd047b5040>]"
      ]
     },
     "execution_count": 35,
     "metadata": {},
     "output_type": "execute_result"
    },
    {
     "data": {
      "image/png": "[encoded data removed]",
      "text/plain": [
       "<Figure size 800x320 with 1 Axes>"
      ]
     },
     "metadata": {},
     "output_type": "display_data"
    }
   ],
   "source": [
    "plt.figure(figsize = (10,4),dpi = 80)\n",
    "plt.plot(x,y,\"o-\")"
   ]
  },
  {
   "cell_type": "code",
   "execution_count": null,
   "metadata": {},
   "outputs": [],
   "source": []
  },
  {
   "cell_type": "markdown",
   "metadata": {},
   "source": [
    "* 下面是一个标准torch神经网络定义例子，请尝试了解此例子，把前面我们的代码参照此例实现"
   ]
  },
  {
   "cell_type": "code",
   "execution_count": 17,
   "metadata": {},
   "outputs": [
    {
     "data": {
      "text/plain": [
       "Parameter containing:\n",
       "tensor([ 1.3508e-01,  1.5439e-01, -1.9350e-01, -6.8777e-02,  1.3787e-01,\n",
       "        -1.8474e-01,  1.2763e-01,  1.8031e-01,  9.5152e-02, -1.2660e-01,\n",
       "         1.4317e-01, -1.4945e-01,  3.4258e-05], requires_grad=True)"
      ]
     },
     "execution_count": 17,
     "metadata": {},
     "output_type": "execute_result"
    }
   ],
   "source": [
    "import torch.nn as nn\n",
    "from torch.nn import functional as F\n",
    "\n",
    "torch.manual_seed(420)\n",
    "X = torch.rand((500,20),dtype=torch.float32)\n",
    "y = torch.randint(low=0,high=3,size=(500,1),dtype=torch.float32)\n",
    "\n",
    "#继承nn.Modules类来定义神经网路的架构\n",
    "class Model(nn.Module):\n",
    "#init：定义类本身，__init__函数是在类被实例化的瞬间就会执行的函数\n",
    "    def __init__(self,in_features=10,out_features=2):\n",
    "        super(Model,self).__init__() #super(请查找这个类的父类，请使用找到的父类替换现在的类)\n",
    "        self.linear1 = nn.Linear(in_features,13,bias=True) #输入层不用写，这里是隐藏层的第一层\n",
    "        self.linear2 = nn.Linear(13,8,bias=True)\n",
    "        self.output = nn.Linear(8,out_features,bias=True)\n",
    "\n",
    "#__init__之外的函数，是在__init__被执行完毕后，就可以被调用的函数\n",
    "    def forward(self, x):\n",
    "        z1 = self.linear1(x)\n",
    "        sigma1 = torch.relu(z1)\n",
    "        z2 = self.linear2(sigma1)\n",
    "        sigma2 = torch.sigmoid(z2)\n",
    "        z3 = self.output(sigma2)\n",
    "        sigma3 = F.softmax(z3,dim=1)\n",
    "        return sigma3\n",
    "        \n",
    "input_ = X.shape[1] #特征的数目\n",
    "output_ = len(y.unique()) #分类的数目\n",
    "#实例化神经网络类\n",
    "torch.manual_seed(420)\n",
    "net = Model(in_features=input_, out_features=output_)\n",
    "#在这一瞬间，所有的层就已经被实例化了，所有随机的w和b也都被建立好了\n",
    "#前向传播\n",
    "net(X)\n",
    "net.forward(X)\n",
    "#查看输出的标签\n",
    "sigma = net.forward(X)\n",
    "sigma.max(axis=1)\n",
    "#查看每一层上的权重w和截距b\n",
    "net.linear1.weight\n",
    "net.linear1.bias"
   ]
  },
  {
   "cell_type": "code",
   "execution_count": 18,
   "metadata": {},
   "outputs": [
    {
     "data": {
      "text/plain": [
       "Parameter containing:\n",
       "tensor([[ 1.3656e-01, -1.3459e-01,  2.1281e-01, -1.7763e-01, -6.8218e-02,\n",
       "         -1.5410e-01,  1.7245e-01,  8.3885e-02, -1.1153e-01, -1.7294e-01,\n",
       "         -1.2947e-01, -4.3138e-02, -1.1413e-01,  1.6295e-01, -9.4082e-02,\n",
       "         -1.4629e-01, -6.8982e-02, -2.1836e-01, -1.0859e-01, -1.2199e-01],\n",
       "        [ 4.8127e-02,  1.8186e-01,  2.4149e-02, -1.3032e-01,  9.2056e-02,\n",
       "         -9.5202e-02, -1.0584e-01, -4.2852e-02, -1.1669e-01,  2.4581e-02,\n",
       "          1.8152e-01,  3.0500e-02,  1.3506e-01, -1.9425e-01, -1.7591e-01,\n",
       "         -2.9751e-02,  2.0485e-04,  1.3957e-01, -1.9666e-01,  9.3293e-02],\n",
       "        [-1.9192e-01,  3.6070e-02,  1.4778e-01,  3.0845e-02,  7.1393e-02,\n",
       "          1.4217e-01,  2.2122e-01, -1.4032e-01,  7.3255e-02,  1.8409e-01,\n",
       "          1.2716e-01, -2.0253e-01, -1.5509e-01, -2.1899e-01,  9.8980e-02,\n",
       "          2.2123e-01, -2.1659e-01,  1.7880e-01, -2.0922e-01, -2.7275e-02],\n",
       "        [ 1.8144e-01, -3.5166e-02,  2.4801e-02,  1.6299e-01, -1.8755e-01,\n",
       "          5.6587e-02, -1.0911e-01,  2.0523e-01, -1.9378e-01,  1.6899e-02,\n",
       "          1.3966e-01, -1.3137e-01, -1.3201e-01,  7.6554e-02, -1.7558e-01,\n",
       "          1.3096e-01,  2.7182e-02, -2.2010e-01,  7.6883e-02, -1.8731e-01],\n",
       "        [ 2.7419e-02,  1.3699e-01, -3.8687e-02,  8.3463e-02, -1.5634e-02,\n",
       "         -1.6781e-01, -2.1426e-01,  1.8463e-01,  8.3891e-02,  5.9950e-02,\n",
       "         -2.0538e-01, -2.7832e-02,  4.7442e-02, -1.9782e-01, -1.7842e-01,\n",
       "          1.1362e-01,  1.4101e-01, -1.3794e-01,  1.1704e-01, -3.4108e-02],\n",
       "        [ 3.8388e-02, -1.7268e-01, -1.0235e-01, -1.2634e-01, -1.1883e-01,\n",
       "         -1.3463e-01, -1.7610e-01,  3.6543e-02, -1.7834e-01, -1.6471e-01,\n",
       "          2.0834e-01,  1.8400e-01, -8.8723e-02, -7.5378e-02,  1.7877e-01,\n",
       "         -5.7259e-02, -2.4522e-02, -1.1822e-02, -1.8196e-01,  1.9812e-01],\n",
       "        [-2.2011e-02,  2.1847e-01,  1.8410e-01,  9.7177e-02, -5.0634e-03,\n",
       "         -2.4731e-03,  5.1408e-03, -2.1733e-01, -5.3375e-02, -1.0346e-01,\n",
       "         -1.3303e-02,  2.7354e-02, -1.7523e-01,  1.6994e-01,  1.8259e-01,\n",
       "          1.3907e-01,  1.0041e-01,  3.5377e-02, -1.6114e-01,  9.0056e-02],\n",
       "        [ 7.9232e-02,  2.1614e-01, -2.1087e-01,  1.9407e-01,  1.7559e-01,\n",
       "          4.1470e-02,  7.4482e-02,  2.6737e-02, -1.7872e-02,  4.5040e-02,\n",
       "          1.2947e-01,  2.5483e-02, -2.0320e-02, -7.3942e-03, -1.7221e-01,\n",
       "         -1.0705e-01,  1.8203e-01,  1.3179e-02,  2.3468e-02, -1.9567e-01],\n",
       "        [ 1.6338e-01,  8.0209e-03, -2.9885e-02, -2.1884e-01,  1.3471e-01,\n",
       "         -2.8901e-02, -1.8757e-01,  8.9256e-03,  2.0940e-01,  9.0927e-02,\n",
       "         -8.2969e-02, -9.0893e-03,  1.0047e-01, -1.6897e-02, -1.3736e-01,\n",
       "          1.6801e-01, -1.9342e-01, -3.4822e-02,  1.0057e-01,  2.2273e-02],\n",
       "        [ 1.4611e-01,  1.4414e-01, -2.3093e-02,  8.1946e-02,  5.9792e-03,\n",
       "          6.7672e-02,  1.5254e-01,  1.6742e-01, -1.6896e-01,  1.1571e-01,\n",
       "         -1.8538e-01,  2.3316e-02, -1.6147e-01,  1.0230e-01, -1.7314e-01,\n",
       "         -1.8906e-01, -2.0286e-01, -2.1210e-02, -2.1799e-02, -3.7921e-02],\n",
       "        [ 1.9375e-01,  5.3921e-02, -1.4900e-01,  1.6709e-01, -1.6652e-01,\n",
       "          6.2363e-02, -4.1574e-02, -2.0565e-01, -1.3649e-01, -2.0600e-01,\n",
       "         -1.9032e-01, -8.8942e-02, -7.8061e-02,  1.6323e-01, -1.3174e-01,\n",
       "          5.8638e-02,  2.1117e-01,  1.6707e-01, -5.9492e-02, -2.0973e-01],\n",
       "        [-2.5644e-02, -1.0818e-02, -3.3051e-02,  3.7071e-02, -1.0809e-01,\n",
       "          2.0642e-01,  1.2396e-01, -2.1523e-01,  1.2172e-01, -1.4323e-01,\n",
       "          1.1334e-01,  4.6931e-02,  8.4553e-02,  2.0530e-01, -1.1833e-01,\n",
       "          1.9287e-01, -2.8398e-02,  7.1443e-03, -2.1055e-01,  1.0805e-01],\n",
       "        [-1.2258e-01, -6.8325e-02, -2.1929e-01, -1.4939e-01,  1.9226e-01,\n",
       "         -6.2922e-02, -7.6377e-02,  2.1955e-01, -4.5838e-02,  9.8011e-03,\n",
       "         -2.9400e-03, -9.5241e-02, -7.9775e-02, -1.8708e-01,  1.7828e-01,\n",
       "         -1.7552e-01, -1.0328e-01, -1.9697e-02, -1.7449e-01,  2.0408e-02]],\n",
       "       requires_grad=True)"
      ]
     },
     "execution_count": 18,
     "metadata": {},
     "output_type": "execute_result"
    }
   ],
   "source": [
    "net.linear1.weight"
   ]
  },
  {
   "cell_type": "code",
   "execution_count": 1,
   "metadata": {},
   "outputs": [],
   "source": []
  },
  {
   "cell_type": "markdown",
   "metadata": {},
   "source": [
    "## 神经网络的损失函数\n",
    "\n",
    "\n",
    "* b站线性回归相关讲解视频\n",
    "\n",
    "https://www.bilibili.com/video/BV1QM4y167oZ/?spm_id_from=333.788&vd_source=09af776e3fe3bbe20ff8249e4a9b1581\n",
    "\n",
    "\n",
    "### 回归问题中的损失函数一般为均方误差(Mean Squared Error, MSE)\n",
    "\n",
    "误差平方和损失函数(Mean Squared Error, MSE)是回归任务中常用的损失函数,其思想是计算预测值和真实值的平方差误差。\n",
    "\n",
    "MSE 函数的表达式为:\n",
    "\n",
    "$$ MSE=\\frac{1}{n}\\sum_{i=1}^{n}(y_{pred_{i}}-y_{true_{i}})^{2}$$\n",
    "\n",
    "其中$n$是样本数量,$y_{pred_{i}}$是预测值,$y_{true_{i}}$是真实标签。\n",
    "\n",
    "MSE的主要特点:\n",
    "\n",
    "- 易于计算,代码实现简单\n",
    "- 对大误差VERY敏感,能惩罚大的误差\n",
    "- 容易落入局部最小值\n",
    "\n",
    "在PyTorch中,MSE损失函数的实现代码如下:\n",
    "这里直接使用PyTorch内置的MSELoss计算了预测值和真实值之间的MSE。"
   ]
  },
  {
   "cell_type": "code",
   "execution_count": 2,
   "metadata": {},
   "outputs": [
    {
     "name": "stdout",
     "output_type": "stream",
     "text": [
      "tensor(0.6667)\n"
     ]
    }
   ],
   "source": [
    "import torch\n",
    "import torch.nn as nn\n",
    "\n",
    "# 预测值 \n",
    "y_pred = torch.tensor([2, 3, 4], dtype = torch.float32)  \n",
    "\n",
    "# 真实值\n",
    "y_true = torch.tensor([1, 3, 5], dtype = torch.float32)\n",
    "\n",
    "# 计算 MSE\n",
    "criterion = nn.MSELoss()\n",
    "loss = criterion(y_pred, y_true)\n",
    "\n",
    "print(loss)"
   ]
  },
  {
   "cell_type": "markdown",
   "metadata": {},
   "source": [
    "### 二分类问题中的交叉熵损失函数(Binary Cross Entropy, BCE)\n",
    "\n",
    "用来衡量两个概率分布之间的距离,通常用来训练二分类神经网络。\n",
    "\n",
    "其表达式为:  \n",
    "\n",
    "$$ BCE(y, \\hat{y}) = - (y \\log \\hat{y} + (1-y) \\log (1-\\hat{y})) $$\n",
    "\n",
    "这里$y$是真实标签,$ŷ$是模型预测概率。\n",
    "\n",
    "BCE的主要特点:\n",
    "\n",
    "- 输出使用Sigmoid函数,范围在[0,1]表示概率\n",
    "- 对正负样本同时起作用\n",
    "- 易于求导,便于梯度下降\n",
    "- 输出非0即1时效果最好\n",
    "\n",
    "在PyTorch中,BCE损失函数代码实现:\n",
    "\n",
    "这里直接调用PyTorch的BCELoss来计算二分类交叉熵损失。\n",
    "\n",
    "所以BCE通过概率距离度量二分类效果,实现了简单而有效的二元交叉熵损失函数。"
   ]
  },
  {
   "cell_type": "code",
   "execution_count": 3,
   "metadata": {},
   "outputs": [
    {
     "name": "stdout",
     "output_type": "stream",
     "text": [
      "tensor(0.2899)\n"
     ]
    }
   ],
   "source": [
    "# 预测概率 \n",
    "y_pred = torch.tensor([0.2, 0.7])  \n",
    "\n",
    "# 真实标签\n",
    "y_true = torch.tensor([0, 1], dtype = torch.float32) \n",
    "\n",
    "# 计算BCE\n",
    "criterion = nn.BCELoss()  \n",
    "loss = criterion(y_pred, y_true)\n",
    "\n",
    "print(loss)"
   ]
  },
  {
   "cell_type": "markdown",
   "metadata": {},
   "source": [
    "### 多类交叉熵损失函数(Multi-class Cross Entropy)\n",
    "\n",
    "对于多分类问题,我们通常使用多类交叉熵损失函数(Multi-class Cross Entropy)。\n",
    "\n",
    "其计算公式为:\n",
    "\n",
    "$$ BCE(y, \\hat{y}) = - \\sum_{c=1}^My_{o,c}\\log(\\hat{y}_{o,c}) $$\n",
    "\n",
    "这里$y_o$是onehot编码的真实标签,$\\hat{y}_o$是模型输出的概率,M是类别数量。\n",
    "\n",
    "多类交叉熵的工作原理是:\n",
    "\n",
    "1. 将真实标签转化为onehot向量,只有对应类别索引位置为1。\n",
    "\n",
    "2. 模型通过Softmax输出每个类别的预测概率。\n",
    "\n",
    "3. 交叉熵度量预测概率分布与onehot标签分布的距离。\n",
    "\n",
    "4. 最小化此距离等效于最大化对的类别概率。\n",
    "\n",
    "PyTorch中多类交叉熵损失函数的实现代码:\n",
    "\n",
    "所以多类交叉熵适合多分类问题,通过onehot编码 label 并最小化预测概率与真实label 分布之间的距离来训练模型。"
   ]
  },
  {
   "cell_type": "code",
   "execution_count": 4,
   "metadata": {},
   "outputs": [
    {
     "name": "stdout",
     "output_type": "stream",
     "text": [
      "tensor(0.9539)\n"
     ]
    }
   ],
   "source": [
    "# 预测概率\n",
    "y_pred = torch.tensor([[0.1, 0.2, 0.7],\n",
    "                       [0.3, 0.5, 0.2]])\n",
    "# 真实标签 \n",
    "y_true = torch.tensor([2, 0]) #由于交叉熵损失需要将标签转化为独热形式，因此不接受浮点数作为标签的输入\n",
    "\n",
    "# 计算多类交叉熵  \n",
    "criterion = nn.CrossEntropyLoss()\n",
    "loss = criterion(y_pred, y_true)\n",
    "print(loss)"
   ]
  }
 ],
 "metadata": {
  "kernelspec": {
   "display_name": "conda_python",
   "language": "python",
   "name": "conda_python"
  },
  "language_info": {
   "codemirror_mode": {
    "name": "ipython",
    "version": 3
   },
   "file_extension": ".py",
   "mimetype": "text/x-python",
   "name": "python",
   "nbconvert_exporter": "python",
   "pygments_lexer": "ipython3",
   "version": "3.9.19"
  }
 },
 "nbformat": 4,
 "nbformat_minor": 2
}
