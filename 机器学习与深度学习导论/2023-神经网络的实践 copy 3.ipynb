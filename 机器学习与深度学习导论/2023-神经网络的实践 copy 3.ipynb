{
 "cells": [
  {
   "cell_type": "markdown",
   "metadata": {},
   "source": [
    "# 神经网络的实践"
   ]
  },
  {
   "cell_type": "markdown",
   "metadata": {},
   "source": []
  },
  {
   "cell_type": "markdown",
   "metadata": {},
   "source": [
    "## TensorDataset \n",
    "\n",
    "TensorDataset在PyTorch中是一个非常有用的数据集类,它可以将tensors打包成数据集以供模型训练。\n",
    "\n",
    "可以看到TensorDataset将输入的特征和标签打包成了数据集,可以用于后面的模型训练。\n",
    "\n",
    "它的主要作用有:\n",
    "\n",
    "- 将特征和标签组合成数据集\n",
    "\n",
    "- 支持打包多个tensor,如图像、标签等\n",
    "\n",
    "- 可以索引样例,方便读取\n",
    "\n",
    "- 兼容 DataLoader,可以批量读取\n",
    "\n",
    "TensorDataset使得tensor数据的组织和读取非常简洁高效。"
   ]
  },
  {
   "cell_type": "markdown",
   "metadata": {},
   "source": [
    "## DataLoader\n",
    "\n",
    "在PyTorch中,DataLoader是用于数据读取的重要类,其主要作用和用法示例如下:\n",
    "\n",
    "1. 数据读取\n",
    "\n",
    "DataLoader实现了对Dataset按batch读取,支持多进程读,自动转为GPU等功能:\n",
    "\n",
    "\n",
    "2. 批处理\n",
    "\n",
    "可以指定batch大小,将数据分成批进行读取:\n",
    "\n",
    "\n",
    "3. 随机打乱\n",
    "\n",
    "设置shuffle=True可以按epoch随机打乱数据:\n",
    "\n",
    "4. 多进程加速\n",
    "\n",
    "设置num_workers启动多进程读取数据:\n",
    "\n",
    "5. 样本采样\n",
    "\n",
    "可以通过Sampler自定义从数据集中采样样本:\n",
    "\n",
    "总之,DataLoader提高了数据读取效率,是PyTorch中使用数据集的标准方式。"
   ]
  },
  {
   "cell_type": "code",
   "execution_count": 2,
   "metadata": {},
   "outputs": [],
   "source": [
    "import torch\n",
    "from torch import nn\n",
    "from torch import optim\n",
    "from torch.nn import functional as F\n",
    "from torch.utils.data import TensorDataset\n",
    "from torch.utils.data import DataLoader\n",
    "\n",
    "import torchvision\n",
    "import torchvision.transforms as transforms\n",
    "import matplotlib.pyplot as plt"
   ]
  },
  {
   "cell_type": "code",
   "execution_count": 3,
   "metadata": {},
   "outputs": [],
   "source": [
    "# 初始化特征和标签张量\n",
    "features = torch.randn(100, 5) \n",
    "labels = torch.randint(0, 10, (100,))\n",
    "\n",
    "# 用TensorDataset打包特征和标签\n",
    "dataset = TensorDataset(features, labels)\n",
    "\n",
    "# 创建数据加载器\n",
    "dataloader = DataLoader(dataset, batch_size=8) # 分组"
   ]
  },
  {
   "cell_type": "code",
   "execution_count": 4,
   "metadata": {},
   "outputs": [
    {
     "data": {
      "text/plain": [
       "(tensor([ 0.7577,  0.5329, -0.6535, -1.9601,  1.2337]), tensor(7))"
      ]
     },
     "execution_count": 4,
     "metadata": {},
     "output_type": "execute_result"
    }
   ],
   "source": [
    "dataset[0]"
   ]
  },
  {
   "cell_type": "code",
   "execution_count": 7,
   "metadata": {},
   "outputs": [
    {
     "name": "stdout",
     "output_type": "stream",
     "text": [
      "[tensor([[ 0.7577,  0.5329, -0.6535, -1.9601,  1.2337],\n",
      "        [ 0.2061, -1.7387, -1.0748,  0.9663,  0.1053],\n",
      "        [ 0.1732, -0.9610, -1.3143,  0.1124,  1.4520],\n",
      "        [-1.0634, -0.7739, -0.6780,  0.3464, -0.4883],\n",
      "        [-0.2310, -0.2401, -0.8299, -1.1252,  0.9251],\n",
      "        [ 2.4796,  0.7280,  0.1354,  0.4936, -0.4326],\n",
      "        [ 0.6451, -1.6169, -0.3073, -1.0358,  0.1106],\n",
      "        [-0.4788,  1.2845, -0.0115,  1.0770, -0.0441]]), tensor([7, 7, 6, 4, 8, 9, 3, 2])]\n"
     ]
    }
   ],
   "source": [
    "for i in dataloader:\n",
    "    print(i)\n",
    "    break"
   ]
  },
  {
   "cell_type": "code",
   "execution_count": 9,
   "metadata": {},
   "outputs": [
    {
     "data": {
      "text/plain": [
       "tensor([2, 3, 3, 2, 5, 0, 2, 0, 1, 1, 6, 9, 5, 0, 3, 8, 1, 5, 0, 8, 8, 8, 3, 1,\n",
       "        1, 7, 8, 7, 6, 2, 7, 6, 9, 4, 0, 3, 6, 8, 6, 1, 4, 9, 4, 9, 8, 2, 3, 0,\n",
       "        9, 1, 8, 5, 1, 2, 1, 6, 6, 9, 8, 2, 3, 4, 8, 5, 8, 1, 5, 6, 2, 7, 6, 2,\n",
       "        0, 2, 4, 0, 6, 9, 8, 3, 8, 0, 5, 7, 0, 1, 1, 7, 2, 3, 8, 9, 9, 9, 1, 0,\n",
       "        2, 6, 6, 4])"
      ]
     },
     "execution_count": 9,
     "metadata": {},
     "output_type": "execute_result"
    }
   ],
   "source": [
    "torch.randint(0, 10, (100,))"
   ]
  },
  {
   "cell_type": "code",
   "execution_count": 10,
   "metadata": {},
   "outputs": [],
   "source": [
    "y = torch.randint(low=0,high=3,size=(500,1),dtype=torch.float32)"
   ]
  },
  {
   "cell_type": "code",
   "execution_count": null,
   "metadata": {},
   "outputs": [],
   "source": [
    "class Model0(nn.Module):\n",
    "    def __init__(self,in_features=10,out_features=2):\n",
    "        super(Model0,self).__init__()\n",
    "        self.h1=nn.Linear(3,3,bias=True)\n",
    "        self.h2=nn.Linear(3,2,bias=True)\n",
    "        self.out=nn.Linear(2,3,bias=True)\n",
    "\n",
    "    def forward(self, x):\n",
    "        h1_out=self.h1(x)\n",
    "        h1_out_r=torch.relu(h1_out)\n",
    "        h2_out=self.h2(h1_out_r)\n",
    "        h2_out_r=torch.relu(h2_out)\n",
    "        out_out=self.out(h2_out_r)\n",
    "        #out_out_s=torch.softmax(out_out,dim=1)\n",
    "        return out_out"
   ]
  },
  {
   "cell_type": "markdown",
   "metadata": {},
   "source": [
    "## 多分类，二分类与回归的问题切换\n",
    "\n",
    "nn.MSELoss()\n",
    "\n",
    "nn.BCEWithLogitsLoss()"
   ]
  },
  {
   "cell_type": "code",
   "execution_count": 25,
   "metadata": {},
   "outputs": [],
   "source": [
    "#定义神经网路的架构\n",
    "class Model(nn.Module):\n",
    "    def __init__(self,in_features=10,out_features=2):\n",
    "        super(Model,self).__init__() #super(请查找这个类的父类，请使用找到的父类替换现在的类)\n",
    "        self.linear1 = nn.Linear(in_features,50,bias=True) #输入层不用写，这里是隐藏层的第一层\n",
    "        self.linear2 = nn.Linear(50,20,bias=True)\n",
    "        self.output = nn.Linear(20,out_features,bias=True)\n",
    "\n",
    "    def forward(self, x):\n",
    "        z1 = self.linear1(x)\n",
    "        z1_relu = torch.relu(z1)\n",
    "        z2 = self.linear2(z1_relu)\n",
    "        z2_relu = torch.relu(z2)\n",
    "        z3 = self.output(z2_relu)\n",
    "        #sigma3 = F.softmax(z3,dim=1)\n",
    "        return z3\n",
    "#实例化神经网络，调用优化算法需要的参数\n"
   ]
  },
  {
   "cell_type": "markdown",
   "metadata": {},
   "source": [
    "! conda env list"
   ]
  },
  {
   "cell_type": "code",
   "execution_count": 50,
   "metadata": {},
   "outputs": [],
   "source": [
    "#确定数据、确定优先需要设置的值\n",
    "lr = 0.05\n",
    "gamma = 0.99\n",
    "epochs=5 #训练轮数\n",
    "bs=50 #批量大小\n",
    "\n",
    "torch.manual_seed(420)\n",
    "X = torch.rand((500,20),dtype=torch.float32)\n",
    "input_ = X.shape[1] #特征的数目"
   ]
  },
  {
   "cell_type": "markdown",
   "metadata": {},
   "source": [
    "### 多分类"
   ]
  },
  {
   "cell_type": "code",
   "execution_count": 51,
   "metadata": {},
   "outputs": [],
   "source": [
    "Y1= torch.randint(low=0,high=3,size=(500,1),dtype=torch.float32)# 0,1,2\n",
    "\n",
    "data = TensorDataset(X,Y1)\n",
    "batchdata = DataLoader(data, batch_size=bs, shuffle = True)\n",
    "\n",
    "output_ = len(Y1.unique()) #分类的数目\n",
    "\n",
    "net = Model(in_features=input_, out_features=output_)\n",
    "criterion = nn.CrossEntropyLoss()\n",
    "opt = optim.SGD(net.parameters() , lr=lr , momentum = gamma) #动量参数"
   ]
  },
  {
   "cell_type": "code",
   "execution_count": 52,
   "metadata": {},
   "outputs": [
    {
     "name": "stdout",
     "output_type": "stream",
     "text": [
      "epoch:0 , loss:1.0926135778427124\n",
      "epoch:0 , loss:1.1205637454986572\n",
      "epoch:0 , loss:1.0785303115844727\n",
      "epoch:0 , loss:1.1162126064300537\n",
      "epoch:0 , loss:1.100728988647461\n",
      "epoch:0 , loss:1.0945640802383423\n",
      "epoch:0 , loss:1.1155763864517212\n",
      "epoch:0 , loss:1.1171555519104004\n",
      "epoch:0 , loss:1.1103758811950684\n",
      "epoch:0 , loss:1.110683798789978\n",
      "epoch:1 , loss:1.1076140403747559\n",
      "epoch:1 , loss:1.0947024822235107\n",
      "epoch:1 , loss:1.0953471660614014\n",
      "epoch:1 , loss:1.0953882932662964\n",
      "epoch:1 , loss:1.1167415380477905\n",
      "epoch:1 , loss:1.1022541522979736\n",
      "epoch:1 , loss:1.0928621292114258\n",
      "epoch:1 , loss:1.1069389581680298\n",
      "epoch:1 , loss:1.1299090385437012\n",
      "epoch:1 , loss:1.1188290119171143\n",
      "epoch:2 , loss:1.1062798500061035\n",
      "epoch:2 , loss:1.0719668865203857\n",
      "epoch:2 , loss:1.1502304077148438\n",
      "epoch:2 , loss:1.1049830913543701\n",
      "epoch:2 , loss:1.0817389488220215\n",
      "epoch:2 , loss:1.0976811647415161\n",
      "epoch:2 , loss:1.103011965751648\n",
      "epoch:2 , loss:1.0909613370895386\n",
      "epoch:2 , loss:1.0982497930526733\n",
      "epoch:2 , loss:1.1029545068740845\n",
      "epoch:3 , loss:1.0931169986724854\n",
      "epoch:3 , loss:1.1066429615020752\n",
      "epoch:3 , loss:1.099489450454712\n",
      "epoch:3 , loss:1.0971896648406982\n",
      "epoch:3 , loss:1.0944653749465942\n",
      "epoch:3 , loss:1.0979053974151611\n",
      "epoch:3 , loss:1.088416576385498\n",
      "epoch:3 , loss:1.0889321565628052\n",
      "epoch:3 , loss:1.0945709943771362\n",
      "epoch:3 , loss:1.1141597032546997\n",
      "epoch:4 , loss:1.0815937519073486\n",
      "epoch:4 , loss:1.0891836881637573\n",
      "epoch:4 , loss:1.1067053079605103\n",
      "epoch:4 , loss:1.0821876525878906\n",
      "epoch:4 , loss:1.1305426359176636\n",
      "epoch:4 , loss:1.1084198951721191\n",
      "epoch:4 , loss:1.0965666770935059\n",
      "epoch:4 , loss:1.0859882831573486\n",
      "epoch:4 , loss:1.086737036705017\n",
      "epoch:4 , loss:1.1040263175964355\n"
     ]
    }
   ],
   "source": [
    "for i in range(epochs):\n",
    "    for batch_idx,(x,y) in enumerate(batchdata):\n",
    "        #print(x,y)\n",
    "        y = y.view(x.shape[0]).long()# 将y转换为与x的形状相同的张量，并转换为长整型\n",
    "        z1 = net.forward(x)# 获取神经网络的前向传播结果\n",
    "        loss = criterion(z1,y)# 计算损失函数\n",
    "        opt.zero_grad()# 清空梯度\n",
    "        loss.backward()# 反向传播\n",
    "        opt.step()# 更新参数\n",
    "        #if batch_idx % 10 == 0:\n",
    "        print(\"epoch:{} , loss:{}\".format(i,loss))"
   ]
  },
  {
   "cell_type": "markdown",
   "metadata": {},
   "source": [
    "### 二分类"
   ]
  },
  {
   "cell_type": "code",
   "execution_count": 39,
   "metadata": {},
   "outputs": [],
   "source": [
    "Y2= torch.randint(low=0,high=2,size=(500,1),dtype=torch.float32)# 0,1\n",
    "\n",
    "data = TensorDataset(X,Y2)\n",
    "batchdata = DataLoader(data, batch_size=bs, shuffle = True)\n",
    "\n",
    "output_ = 1 #分类的数目\n",
    "\n",
    "net = Model(in_features=input_, out_features=output_)\n",
    "criterion = nn.BCEWithLogitsLoss()\n",
    "opt = optim.SGD(net.parameters() , lr=lr , momentum = gamma) #动量参数"
   ]
  },
  {
   "cell_type": "code",
   "execution_count": 40,
   "metadata": {},
   "outputs": [
    {
     "name": "stdout",
     "output_type": "stream",
     "text": [
      "epoch:0 , loss:0.6911578178405762\n",
      "epoch:0 , loss:0.691813051700592\n",
      "epoch:0 , loss:0.690122663974762\n",
      "epoch:0 , loss:0.6907101273536682\n",
      "epoch:0 , loss:0.7111401557922363\n",
      "epoch:0 , loss:0.686767578125\n",
      "epoch:0 , loss:0.6964631080627441\n",
      "epoch:0 , loss:0.6999545097351074\n",
      "epoch:0 , loss:0.6934158205986023\n",
      "epoch:0 , loss:0.6942498683929443\n",
      "epoch:1 , loss:0.6934919953346252\n",
      "epoch:1 , loss:0.6932640075683594\n",
      "epoch:1 , loss:0.6942868232727051\n",
      "epoch:1 , loss:0.6935697793960571\n",
      "epoch:1 , loss:0.6937231421470642\n",
      "epoch:1 , loss:0.6928620338439941\n",
      "epoch:1 , loss:0.6926438808441162\n",
      "epoch:1 , loss:0.6917269825935364\n",
      "epoch:1 , loss:0.6935970187187195\n",
      "epoch:1 , loss:0.6929906606674194\n",
      "epoch:2 , loss:0.694562554359436\n",
      "epoch:2 , loss:0.6870779991149902\n",
      "epoch:2 , loss:0.6932458281517029\n",
      "epoch:2 , loss:0.6922366619110107\n",
      "epoch:2 , loss:0.6948724985122681\n",
      "epoch:2 , loss:0.7049015760421753\n",
      "epoch:2 , loss:0.7011018991470337\n",
      "epoch:2 , loss:0.6848878264427185\n",
      "epoch:2 , loss:0.6940943002700806\n",
      "epoch:2 , loss:0.6961090564727783\n",
      "epoch:3 , loss:0.6932405233383179\n",
      "epoch:3 , loss:0.6923335790634155\n",
      "epoch:3 , loss:0.6892260909080505\n",
      "epoch:3 , loss:0.691676914691925\n",
      "epoch:3 , loss:0.6920396685600281\n",
      "epoch:3 , loss:0.6906854510307312\n",
      "epoch:3 , loss:0.6927462816238403\n",
      "epoch:3 , loss:0.6959225535392761\n",
      "epoch:3 , loss:0.7126230001449585\n",
      "epoch:3 , loss:0.6924819946289062\n",
      "epoch:4 , loss:0.7018579244613647\n",
      "epoch:4 , loss:0.6957733035087585\n",
      "epoch:4 , loss:0.6945009827613831\n",
      "epoch:4 , loss:0.6898370385169983\n",
      "epoch:4 , loss:0.7031562328338623\n",
      "epoch:4 , loss:0.6998607516288757\n",
      "epoch:4 , loss:0.7041661143302917\n",
      "epoch:4 , loss:0.6957248449325562\n",
      "epoch:4 , loss:0.700651228427887\n",
      "epoch:4 , loss:0.691028892993927\n"
     ]
    }
   ],
   "source": [
    "for i in range(epochs):\n",
    "    for batch_idx,(x,y) in enumerate(batchdata):\n",
    "        #print(x,y)\n",
    "        #y = y.view(x.shape[0]).long()# 将y转换为与x的形状相同的张量，并转换为长整型\n",
    "        z1 = net.forward(x)# 获取神经网络的前向传播结果\n",
    "        loss = criterion(z1,y)# 计算损失函数\n",
    "        opt.zero_grad()# 清空梯度\n",
    "        loss.backward()# 反向传播\n",
    "        opt.step()# 更新参数\n",
    "        #if batch_idx % 10 == 0:\n",
    "        print(\"epoch:{} , loss:{}\".format(i,loss))"
   ]
  },
  {
   "cell_type": "markdown",
   "metadata": {},
   "source": [
    "### 回归问题\n",
    "\n",
    "### 分类问题\n",
    "Y4= torch.randint(low=0,high=2,size=(500,1),dtype=torch.float32)# 0,1\n",
    "\n",
    "data = TensorDataset(X,Y4)\n",
    "batchdata = DataLoader(data, batch_size=bs, shuffle = True)\n",
    "\n",
    "output_ = 2 #分类的数目\n",
    "\n",
    "net = Model(in_features=input_, out_features=output_)\n",
    "criterion = nn.CrossEntropyLoss()\n",
    "opt = optim.SGD(net.parameters() , lr=lr , momentum = gamma) #动量参数\n",
    "for i in range(epochs):\n",
    "    for batch_idx,(x,y) in enumerate(batchdata):\n",
    "        #print(x,y)\n",
    "        #y = y.view(x.shape[0]).long()# 将y转换为与x的形状相同的张量，并转换为长整型\n",
    "        z1 = net.forward(x)# 获取神经网络的前向传播结果\n",
    "        loss = criterion(z1,y)# 计算损失函数\n",
    "        opt.zero_grad()# 清空梯度\n",
    "        loss.backward()# 反向传播\n",
    "        opt.step()# 更新参数\n",
    "        #if batch_idx % 10 == 0:\n",
    "        print(\"epoch:{} , loss:{}\".format(i,loss))"
   ]
  },
  {
   "cell_type": "code",
   "execution_count": 34,
   "metadata": {},
   "outputs": [
    {
     "name": "stdout",
     "output_type": "stream",
     "text": [
      "epoch:0 , loss:1.4053595066070557\n",
      "epoch:0 , loss:1.0177218914031982\n",
      "epoch:0 , loss:0.6129891872406006\n",
      "epoch:0 , loss:0.9005482196807861\n",
      "epoch:0 , loss:1.2485594749450684\n",
      "epoch:0 , loss:0.6408024430274963\n",
      "epoch:0 , loss:0.7605299949645996\n",
      "epoch:0 , loss:0.6591443419456482\n",
      "epoch:0 , loss:0.7288278341293335\n",
      "epoch:0 , loss:0.6772197484970093\n",
      "epoch:1 , loss:0.784960150718689\n",
      "epoch:1 , loss:0.6220266819000244\n",
      "epoch:1 , loss:0.7043445706367493\n",
      "epoch:1 , loss:0.680854320526123\n",
      "epoch:1 , loss:0.5799904465675354\n",
      "epoch:1 , loss:0.5838422179222107\n",
      "epoch:1 , loss:0.5871711373329163\n",
      "epoch:1 , loss:0.7500452995300293\n",
      "epoch:1 , loss:0.7635473012924194\n",
      "epoch:1 , loss:0.6356462240219116\n",
      "epoch:2 , loss:0.6441958546638489\n",
      "epoch:2 , loss:0.7051577568054199\n",
      "epoch:2 , loss:0.8322952389717102\n",
      "epoch:2 , loss:0.8388717174530029\n",
      "epoch:2 , loss:0.6928207278251648\n",
      "epoch:2 , loss:0.6954209208488464\n",
      "epoch:2 , loss:0.7269460558891296\n",
      "epoch:2 , loss:0.5530810356140137\n",
      "epoch:2 , loss:0.503537654876709\n",
      "epoch:2 , loss:0.7860142588615417\n",
      "epoch:3 , loss:0.6973493695259094\n",
      "epoch:3 , loss:0.6714602708816528\n",
      "epoch:3 , loss:0.6383377313613892\n",
      "epoch:3 , loss:0.6906395554542542\n",
      "epoch:3 , loss:0.7314502000808716\n",
      "epoch:3 , loss:0.6765615940093994\n",
      "epoch:3 , loss:0.7779037356376648\n",
      "epoch:3 , loss:0.5098950266838074\n",
      "epoch:3 , loss:0.7071496844291687\n",
      "epoch:3 , loss:0.5814362168312073\n",
      "epoch:4 , loss:0.6749473810195923\n",
      "epoch:4 , loss:0.6848499178886414\n",
      "epoch:4 , loss:0.5780802369117737\n",
      "epoch:4 , loss:0.743030846118927\n",
      "epoch:4 , loss:0.6383628249168396\n",
      "epoch:4 , loss:0.6628897786140442\n",
      "epoch:4 , loss:0.7283324599266052\n",
      "epoch:4 , loss:0.6404179930686951\n",
      "epoch:4 , loss:0.6851274967193604\n",
      "epoch:4 , loss:0.6806153655052185\n"
     ]
    }
   ],
   "source": [
    "Y3= torch.randint(low=0,high=3,size=(500,1),dtype=torch.float32)# 0,1,2\n",
    "\n",
    "data = TensorDataset(X,Y3)\n",
    "batchdata = DataLoader(data, batch_size=bs, shuffle = True)\n",
    "\n",
    "output_ = 1 #分类的数目\n",
    "\n",
    "net = Model(in_features=input_, out_features=output_)\n",
    "criterion = nn.MSELoss()\n",
    "opt = optim.SGD(net.parameters() , lr=lr , momentum = gamma) #动量参数\n",
    "\n",
    "for i in range(epochs):\n",
    "    for batch_idx,(x,y) in enumerate(batchdata):\n",
    "        #print(x,y)\n",
    "        #y = y.view(x.shape[0]).long()# 将y转换为与x的形状相同的张量，并转换为长整型\n",
    "        z1 = net.forward(x)# 获取神经网络的前向传播结果\n",
    "        loss = criterion(z1,y)# 计算损失函数\n",
    "        opt.zero_grad()# 清空梯度\n",
    "        loss.backward()# 反向传播\n",
    "        opt.step()# 更新参数\n",
    "        #if batch_idx % 10 == 0:\n",
    "        print(\"epoch:{} , loss:{}\".format(i,loss))"
   ]
  },
  {
   "cell_type": "markdown",
   "metadata": {},
   "source": [
    "# 基于真实数据的神经网络模型构建\n",
    "\n",
    "torch.max(sigma,1)[1]\n",
    "\n",
    "torch.sum(r1 == y)\n",
    "\n",
    "x.view(-1, 28*28)"
   ]
  },
  {
   "cell_type": "code",
   "execution_count": 53,
   "metadata": {},
   "outputs": [
    {
     "name": "stdout",
     "output_type": "stream",
     "text": [
      "Downloading http://fashion-mnist.s3-website.eu-central-1.amazonaws.com/train-images-idx3-ubyte.gz\n",
      "Downloading http://fashion-mnist.s3-website.eu-central-1.amazonaws.com/train-images-idx3-ubyte.gz to D:\\jupyterDate\\python_data_course\\data_course\\机器学习与深度学习导论\\data\\FashionMNIST\\FashionMNIST\\raw\\train-images-idx3-ubyte.gz\n"
     ]
    },
    {
     "name": "stderr",
     "output_type": "stream",
     "text": [
      "100.0%\n"
     ]
    },
    {
     "name": "stdout",
     "output_type": "stream",
     "text": [
      "Extracting D:\\jupyterDate\\python_data_course\\data_course\\机器学习与深度学习导论\\data\\FashionMNIST\\FashionMNIST\\raw\\train-images-idx3-ubyte.gz to D:\\jupyterDate\\python_data_course\\data_course\\机器学习与深度学习导论\\data\\FashionMNIST\\FashionMNIST\\raw\n",
      "\n",
      "Downloading http://fashion-mnist.s3-website.eu-central-1.amazonaws.com/train-labels-idx1-ubyte.gz\n",
      "Downloading http://fashion-mnist.s3-website.eu-central-1.amazonaws.com/train-labels-idx1-ubyte.gz to D:\\jupyterDate\\python_data_course\\data_course\\机器学习与深度学习导论\\data\\FashionMNIST\\FashionMNIST\\raw\\train-labels-idx1-ubyte.gz\n"
     ]
    },
    {
     "name": "stderr",
     "output_type": "stream",
     "text": [
      "100.0%\n"
     ]
    },
    {
     "name": "stdout",
     "output_type": "stream",
     "text": [
      "Extracting D:\\jupyterDate\\python_data_course\\data_course\\机器学习与深度学习导论\\data\\FashionMNIST\\FashionMNIST\\raw\\train-labels-idx1-ubyte.gz to D:\\jupyterDate\\python_data_course\\data_course\\机器学习与深度学习导论\\data\\FashionMNIST\\FashionMNIST\\raw\n",
      "\n",
      "Downloading http://fashion-mnist.s3-website.eu-central-1.amazonaws.com/t10k-images-idx3-ubyte.gz\n",
      "Downloading http://fashion-mnist.s3-website.eu-central-1.amazonaws.com/t10k-images-idx3-ubyte.gz to D:\\jupyterDate\\python_data_course\\data_course\\机器学习与深度学习导论\\data\\FashionMNIST\\FashionMNIST\\raw\\t10k-images-idx3-ubyte.gz\n"
     ]
    },
    {
     "name": "stderr",
     "output_type": "stream",
     "text": [
      "100.0%\n"
     ]
    },
    {
     "name": "stdout",
     "output_type": "stream",
     "text": [
      "Extracting D:\\jupyterDate\\python_data_course\\data_course\\机器学习与深度学习导论\\data\\FashionMNIST\\FashionMNIST\\raw\\t10k-images-idx3-ubyte.gz to D:\\jupyterDate\\python_data_course\\data_course\\机器学习与深度学习导论\\data\\FashionMNIST\\FashionMNIST\\raw\n",
      "\n",
      "Downloading http://fashion-mnist.s3-website.eu-central-1.amazonaws.com/t10k-labels-idx1-ubyte.gz\n",
      "Downloading http://fashion-mnist.s3-website.eu-central-1.amazonaws.com/t10k-labels-idx1-ubyte.gz to D:\\jupyterDate\\python_data_course\\data_course\\机器学习与深度学习导论\\data\\FashionMNIST\\FashionMNIST\\raw\\t10k-labels-idx1-ubyte.gz\n"
     ]
    },
    {
     "name": "stderr",
     "output_type": "stream",
     "text": [
      "100.0%"
     ]
    },
    {
     "name": "stdout",
     "output_type": "stream",
     "text": [
      "Extracting D:\\jupyterDate\\python_data_course\\data_course\\机器学习与深度学习导论\\data\\FashionMNIST\\FashionMNIST\\raw\\t10k-labels-idx1-ubyte.gz to D:\\jupyterDate\\python_data_course\\data_course\\机器学习与深度学习导论\\data\\FashionMNIST\\FashionMNIST\\raw\n",
      "\n"
     ]
    },
    {
     "name": "stderr",
     "output_type": "stream",
     "text": [
      "\n"
     ]
    }
   ],
   "source": [
    "mnist = torchvision.datasets.FashionMNIST(root='D:\\jupyterDate\\python_data_course\\data_course\\机器学习与深度学习导论\\data\\FashionMNIST', train=True, download=True, transform=transforms.ToTensor())"
   ]
  },
  {
   "cell_type": "code",
   "execution_count": 60,
   "metadata": {},
   "outputs": [
    {
     "data": {
      "text/plain": [
       "0"
      ]
     },
     "execution_count": 60,
     "metadata": {},
     "output_type": "execute_result"
    }
   ],
   "source": [
    "mnist[1][1]"
   ]
  },
  {
   "cell_type": "code",
   "execution_count": 55,
   "metadata": {},
   "outputs": [
    {
     "data": {
      "text/plain": [
       "<matplotlib.image.AxesImage at 0x22725ece970>"
      ]
     },
     "execution_count": 55,
     "metadata": {},
     "output_type": "execute_result"
    },
    {
     "data": {
      "image/png": "[encoded data removed]",
      "text/plain": [
       "<Figure size 640x480 with 1 Axes>"
      ]
     },
     "metadata": {},
     "output_type": "display_data"
    }
   ],
   "source": [
    "plt.imshow(mnist[0][0].view((28, 28)).numpy())"
   ]
  },
  {
   "cell_type": "code",
   "execution_count": 62,
   "metadata": {},
   "outputs": [
    {
     "data": {
      "text/plain": [
       "tensor([[0.0000, 0.0000, 0.0000, 0.0000, 0.0000, 0.0000, 0.0000, 0.0000, 0.0000,\n",
       "         0.0000, 0.0000, 0.0000, 0.0000, 0.0000, 0.0000, 0.0000, 0.0000, 0.0000,\n",
       "         0.0000, 0.0000, 0.0000, 0.0000, 0.0000, 0.0000, 0.0000, 0.0000, 0.0000,\n",
       "         0.0000, 0.0000, 0.0000, 0.0000, 0.0000, 0.0000, 0.0000, 0.0000, 0.0000,\n",
       "         0.0000, 0.0000, 0.0000, 0.0000, 0.0000, 0.0000, 0.0000, 0.0000, 0.0000,\n",
       "         0.0000, 0.0000, 0.0000, 0.0000, 0.0000, 0.0000, 0.0000, 0.0000, 0.0000,\n",
       "         0.0000, 0.0000, 0.0000, 0.0000, 0.0000, 0.0000, 0.0000, 0.0000, 0.0000,\n",
       "         0.0000, 0.0000, 0.0000, 0.0000, 0.0000, 0.0000, 0.0000, 0.0000, 0.0000,\n",
       "         0.0000, 0.0000, 0.0000, 0.0000, 0.0000, 0.0000, 0.0000, 0.0000, 0.0000,\n",
       "         0.0000, 0.0000, 0.0000, 0.0000, 0.0000, 0.0000, 0.0000, 0.0000, 0.0000,\n",
       "         0.0000, 0.0000, 0.0000, 0.0000, 0.0000, 0.0000, 0.0039, 0.0000, 0.0000,\n",
       "         0.0510, 0.2863, 0.0000, 0.0000, 0.0039, 0.0157, 0.0000, 0.0000, 0.0000,\n",
       "         0.0000, 0.0039, 0.0039, 0.0000, 0.0000, 0.0000, 0.0000, 0.0000, 0.0000,\n",
       "         0.0000, 0.0000, 0.0000, 0.0000, 0.0000, 0.0000, 0.0000, 0.0118, 0.0000,\n",
       "         0.1412, 0.5333, 0.4980, 0.2431, 0.2118, 0.0000, 0.0000, 0.0000, 0.0039,\n",
       "         0.0118, 0.0157, 0.0000, 0.0000, 0.0118, 0.0000, 0.0000, 0.0000, 0.0000,\n",
       "         0.0000, 0.0000, 0.0000, 0.0000, 0.0000, 0.0000, 0.0000, 0.0000, 0.0235,\n",
       "         0.0000, 0.4000, 0.8000, 0.6902, 0.5255, 0.5647, 0.4824, 0.0902, 0.0000,\n",
       "         0.0000, 0.0000, 0.0000, 0.0471, 0.0392, 0.0000, 0.0000, 0.0000, 0.0000,\n",
       "         0.0000, 0.0000, 0.0000, 0.0000, 0.0000, 0.0000, 0.0000, 0.0000, 0.0000,\n",
       "         0.0000, 0.0000, 0.6078, 0.9255, 0.8118, 0.6980, 0.4196, 0.6118, 0.6314,\n",
       "         0.4275, 0.2510, 0.0902, 0.3020, 0.5098, 0.2824, 0.0588, 0.0000, 0.0000,\n",
       "         0.0000, 0.0000, 0.0000, 0.0000, 0.0000, 0.0000, 0.0000, 0.0000, 0.0000,\n",
       "         0.0039, 0.0000, 0.2706, 0.8118, 0.8745, 0.8549, 0.8471, 0.8471, 0.6392,\n",
       "         0.4980, 0.4745, 0.4784, 0.5725, 0.5529, 0.3451, 0.6745, 0.2588, 0.0000,\n",
       "         0.0000, 0.0000, 0.0000, 0.0000, 0.0000, 0.0000, 0.0000, 0.0000, 0.0039,\n",
       "         0.0039, 0.0039, 0.0000, 0.7843, 0.9098, 0.9098, 0.9137, 0.8980, 0.8745,\n",
       "         0.8745, 0.8431, 0.8353, 0.6431, 0.4980, 0.4824, 0.7686, 0.8980, 0.0000,\n",
       "         0.0000, 0.0000, 0.0000, 0.0000, 0.0000, 0.0000, 0.0000, 0.0000, 0.0000,\n",
       "         0.0000, 0.0000, 0.0000, 0.0000, 0.7176, 0.8824, 0.8471, 0.8745, 0.8941,\n",
       "         0.9216, 0.8902, 0.8784, 0.8706, 0.8784, 0.8667, 0.8745, 0.9608, 0.6784,\n",
       "         0.0000, 0.0000, 0.0000, 0.0000, 0.0000, 0.0000, 0.0000, 0.0000, 0.0000,\n",
       "         0.0000, 0.0000, 0.0000, 0.0000, 0.0000, 0.7569, 0.8941, 0.8549, 0.8353,\n",
       "         0.7765, 0.7059, 0.8314, 0.8235, 0.8275, 0.8353, 0.8745, 0.8627, 0.9529,\n",
       "         0.7922, 0.0000, 0.0000, 0.0000, 0.0000, 0.0000, 0.0000, 0.0000, 0.0000,\n",
       "         0.0000, 0.0000, 0.0039, 0.0118, 0.0000, 0.0471, 0.8588, 0.8627, 0.8314,\n",
       "         0.8549, 0.7529, 0.6627, 0.8902, 0.8157, 0.8549, 0.8784, 0.8314, 0.8863,\n",
       "         0.7725, 0.8196, 0.2039, 0.0000, 0.0000, 0.0000, 0.0000, 0.0000, 0.0000,\n",
       "         0.0000, 0.0000, 0.0000, 0.0000, 0.0235, 0.0000, 0.3882, 0.9569, 0.8706,\n",
       "         0.8627, 0.8549, 0.7961, 0.7765, 0.8667, 0.8431, 0.8353, 0.8706, 0.8627,\n",
       "         0.9608, 0.4667, 0.6549, 0.2196, 0.0000, 0.0000, 0.0000, 0.0000, 0.0000,\n",
       "         0.0000, 0.0000, 0.0000, 0.0000, 0.0157, 0.0000, 0.0000, 0.2157, 0.9255,\n",
       "         0.8941, 0.9020, 0.8941, 0.9412, 0.9098, 0.8353, 0.8549, 0.8745, 0.9176,\n",
       "         0.8510, 0.8510, 0.8196, 0.3608, 0.0000, 0.0000, 0.0000, 0.0039, 0.0157,\n",
       "         0.0235, 0.0275, 0.0078, 0.0000, 0.0000, 0.0000, 0.0000, 0.0000, 0.9294,\n",
       "         0.8863, 0.8510, 0.8745, 0.8706, 0.8588, 0.8706, 0.8667, 0.8471, 0.8745,\n",
       "         0.8980, 0.8431, 0.8549, 1.0000, 0.3020, 0.0000, 0.0000, 0.0118, 0.0000,\n",
       "         0.0000, 0.0000, 0.0000, 0.0000, 0.0000, 0.0000, 0.2431, 0.5686, 0.8000,\n",
       "         0.8941, 0.8118, 0.8353, 0.8667, 0.8549, 0.8157, 0.8275, 0.8549, 0.8784,\n",
       "         0.8745, 0.8588, 0.8431, 0.8784, 0.9569, 0.6235, 0.0000, 0.0000, 0.0000,\n",
       "         0.0000, 0.0000, 0.0706, 0.1725, 0.3216, 0.4196, 0.7412, 0.8941, 0.8627,\n",
       "         0.8706, 0.8510, 0.8863, 0.7843, 0.8039, 0.8275, 0.9020, 0.8784, 0.9176,\n",
       "         0.6902, 0.7373, 0.9804, 0.9725, 0.9137, 0.9333, 0.8431, 0.0000, 0.0000,\n",
       "         0.2235, 0.7333, 0.8157, 0.8784, 0.8667, 0.8784, 0.8157, 0.8000, 0.8392,\n",
       "         0.8157, 0.8196, 0.7843, 0.6235, 0.9608, 0.7569, 0.8078, 0.8745, 1.0000,\n",
       "         1.0000, 0.8667, 0.9176, 0.8667, 0.8275, 0.8627, 0.9098, 0.9647, 0.0000,\n",
       "         0.0118, 0.7922, 0.8941, 0.8784, 0.8667, 0.8275, 0.8275, 0.8392, 0.8039,\n",
       "         0.8039, 0.8039, 0.8627, 0.9412, 0.3137, 0.5882, 1.0000, 0.8980, 0.8667,\n",
       "         0.7373, 0.6039, 0.7490, 0.8235, 0.8000, 0.8196, 0.8706, 0.8941, 0.8824,\n",
       "         0.0000, 0.3843, 0.9137, 0.7765, 0.8235, 0.8706, 0.8980, 0.8980, 0.9176,\n",
       "         0.9765, 0.8627, 0.7608, 0.8431, 0.8510, 0.9451, 0.2549, 0.2863, 0.4157,\n",
       "         0.4588, 0.6588, 0.8588, 0.8667, 0.8431, 0.8510, 0.8745, 0.8745, 0.8784,\n",
       "         0.8980, 0.1137, 0.2941, 0.8000, 0.8314, 0.8000, 0.7569, 0.8039, 0.8275,\n",
       "         0.8824, 0.8471, 0.7255, 0.7725, 0.8078, 0.7765, 0.8353, 0.9412, 0.7647,\n",
       "         0.8902, 0.9608, 0.9373, 0.8745, 0.8549, 0.8314, 0.8196, 0.8706, 0.8627,\n",
       "         0.8667, 0.9020, 0.2627, 0.1882, 0.7961, 0.7176, 0.7608, 0.8353, 0.7725,\n",
       "         0.7255, 0.7451, 0.7608, 0.7529, 0.7922, 0.8392, 0.8588, 0.8667, 0.8627,\n",
       "         0.9255, 0.8824, 0.8471, 0.7804, 0.8078, 0.7294, 0.7098, 0.6941, 0.6745,\n",
       "         0.7098, 0.8039, 0.8078, 0.4510, 0.0000, 0.4784, 0.8588, 0.7569, 0.7020,\n",
       "         0.6706, 0.7176, 0.7686, 0.8000, 0.8235, 0.8353, 0.8118, 0.8275, 0.8235,\n",
       "         0.7843, 0.7686, 0.7608, 0.7490, 0.7647, 0.7490, 0.7765, 0.7529, 0.6902,\n",
       "         0.6118, 0.6549, 0.6941, 0.8235, 0.3608, 0.0000, 0.0000, 0.2902, 0.7412,\n",
       "         0.8314, 0.7490, 0.6863, 0.6745, 0.6863, 0.7098, 0.7255, 0.7373, 0.7412,\n",
       "         0.7373, 0.7569, 0.7765, 0.8000, 0.8196, 0.8235, 0.8235, 0.8275, 0.7373,\n",
       "         0.7373, 0.7608, 0.7529, 0.8471, 0.6667, 0.0000, 0.0078, 0.0000, 0.0000,\n",
       "         0.0000, 0.2588, 0.7843, 0.8706, 0.9294, 0.9373, 0.9490, 0.9647, 0.9529,\n",
       "         0.9569, 0.8667, 0.8627, 0.7569, 0.7490, 0.7020, 0.7137, 0.7137, 0.7098,\n",
       "         0.6902, 0.6510, 0.6588, 0.3882, 0.2275, 0.0000, 0.0000, 0.0000, 0.0000,\n",
       "         0.0000, 0.0000, 0.0000, 0.0000, 0.0000, 0.1569, 0.2392, 0.1725, 0.2824,\n",
       "         0.1608, 0.1373, 0.0000, 0.0000, 0.0000, 0.0000, 0.0000, 0.0000, 0.0000,\n",
       "         0.0000, 0.0000, 0.0000, 0.0000, 0.0000, 0.0000, 0.0000, 0.0000, 0.0000,\n",
       "         0.0000, 0.0000, 0.0000, 0.0000, 0.0000, 0.0000, 0.0000, 0.0000, 0.0000,\n",
       "         0.0000, 0.0000, 0.0000, 0.0000, 0.0000, 0.0000, 0.0000, 0.0000, 0.0000,\n",
       "         0.0000, 0.0000, 0.0000, 0.0000, 0.0000, 0.0000, 0.0000, 0.0000, 0.0000,\n",
       "         0.0000, 0.0000, 0.0000, 0.0000, 0.0000, 0.0000, 0.0000, 0.0000, 0.0000,\n",
       "         0.0000, 0.0000, 0.0000, 0.0000, 0.0000, 0.0000, 0.0000, 0.0000, 0.0000,\n",
       "         0.0000, 0.0000, 0.0000, 0.0000, 0.0000, 0.0000, 0.0000, 0.0000, 0.0000,\n",
       "         0.0000]])"
      ]
     },
     "execution_count": 62,
     "metadata": {},
     "output_type": "execute_result"
    }
   ],
   "source": [
    "#mnist.targets\n",
    "#mnist.data.shape\n",
    "mnist[0][0].view(-1, 28*28)"
   ]
  },
  {
   "cell_type": "code",
   "execution_count": 63,
   "metadata": {},
   "outputs": [],
   "source": [
    "#定义神经网路的架构\n",
    "class Model_mnist(nn.Module):\n",
    "    def __init__(self,in_features=10,out_features=2):\n",
    "        super().__init__() \n",
    "        self.linear1 = nn.Linear(in_features,128)\n",
    "        self.output = nn.Linear(128,out_features)\n",
    "\n",
    "    def forward(self, x):\n",
    "        x = x.view(-1, 28*28)# 垃圾处理\n",
    "        sigma1 = torch.relu(self.linear1(x))\n",
    "        z2 = self.output(sigma1)\n",
    "        return z2"
   ]
  },
  {
   "cell_type": "code",
   "execution_count": 64,
   "metadata": {},
   "outputs": [],
   "source": [
    "#确定数据、确定优先需要设置的值\n",
    "lr = 0.1\n",
    "gamma = 0.5\n",
    "epochs=5 #训练轮数\n",
    "bs=5000 #批量大小\n",
    "\n",
    "dataloader = DataLoader(mnist, batch_size=bs, shuffle=True)\n",
    "\n",
    "input_ = 28*28 #特征的数目\n",
    "output_ = len(mnist.targets.unique()) #分类的数目\n",
    "\n",
    "torch.manual_seed(420)\n",
    "net = Model_mnist(in_features=input_, out_features=output_)\n",
    "criterion = nn.CrossEntropyLoss()\n",
    "opt = optim.SGD(net.parameters() , lr=lr , momentum = gamma) #动量参数"
   ]
  },
  {
   "cell_type": "code",
   "execution_count": 68,
   "metadata": {},
   "outputs": [
    {
     "name": "stdout",
     "output_type": "stream",
     "text": [
      "epoch:0 , loss:0.6486598253250122, zhunquelv:0.7739999890327454\n",
      "epoch:0 , loss:0.6144958734512329, zhunquelv:0.7892000079154968\n",
      "epoch:1 , loss:0.6177963018417358, zhunquelv:0.7901999950408936\n",
      "epoch:1 , loss:0.6215616464614868, zhunquelv:0.7746000289916992\n",
      "epoch:2 , loss:0.6037749648094177, zhunquelv:0.7753999829292297\n",
      "epoch:2 , loss:0.5673689246177673, zhunquelv:0.807200014591217\n",
      "epoch:3 , loss:0.5613701343536377, zhunquelv:0.8148000240325928\n",
      "epoch:3 , loss:0.5492792725563049, zhunquelv:0.8166000247001648\n",
      "epoch:4 , loss:0.5678409934043884, zhunquelv:0.8008000254631042\n",
      "epoch:4 , loss:0.5521474480628967, zhunquelv:0.8162000179290771\n"
     ]
    }
   ],
   "source": [
    "for i in range(epochs):\n",
    "    for batch_idx,(x,y) in enumerate(dataloader):\n",
    "        #print(x,y)\n",
    "        y = y.view(x.shape[0]).long()# 将y转换为与x的形状相同的张量，并转换为长整型\n",
    "        z1 = net.forward(x)# 获取神经网络的前向传播结果\n",
    "        loss = criterion(z1,y)# 计算损失函数\n",
    "        opt.zero_grad()# 清空梯度\n",
    "        loss.backward()# 反向传播\n",
    "        opt.step()# 更新参数\n",
    "        if batch_idx % 10 == 0:\n",
    "            z2=torch.max(z1,1)[1]\n",
    "            print(\"epoch:{} , loss:{}, zhunquelv:{}\".format(i,loss,torch.sum(z2 == y)/bs))"
   ]
  },
  {
   "cell_type": "code",
   "execution_count": 41,
   "metadata": {},
   "outputs": [
    {
     "data": {
      "text/plain": [
       "torch.Size([28, 28])"
      ]
     },
     "execution_count": 41,
     "metadata": {},
     "output_type": "execute_result"
    }
   ],
   "source": [
    "mnist.data[0].shape"
   ]
  },
  {
   "cell_type": "code",
   "execution_count": 78,
   "metadata": {},
   "outputs": [],
   "source": [
    "#mnist.data[0]"
   ]
  }
 ],
 "metadata": {
  "kernelspec": {
   "display_name": "conda_python",
   "language": "python",
   "name": "conda_python"
  },
  "language_info": {
   "codemirror_mode": {
    "name": "ipython",
    "version": 3
   },
   "file_extension": ".py",
   "mimetype": "text/x-python",
   "name": "python",
   "nbconvert_exporter": "python",
   "pygments_lexer": "ipython3",
   "version": "3.9.19"
  }
 },
 "nbformat": 4,
 "nbformat_minor": 2
}
